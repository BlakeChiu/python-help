{
 "cells": [
  {
   "cell_type": "code",
   "execution_count": 1,
   "metadata": {},
   "outputs": [],
   "source": [
    "import tensorflow as tf\n",
    "import numpy as np\n",
    "from tensorflow import keras"
   ]
  },
  {
   "cell_type": "code",
   "execution_count": 2,
   "metadata": {},
   "outputs": [],
   "source": [
    "base_image_path=keras.utils.get_file(\"sf.jpg\",origin=\"https://img-datasets.s3.amazonaws.com/sf.jpg\")\n",
    "style_reference_image_path=keras.utils.get_file(\"starry_night.jpg\",origin=\"https://img-datasets.s3.amazonaws.com/starry_night.jpg\")\n",
    "\n",
    "original_width,original_height=keras.utils.load_img(base_image_path).size\n",
    "img_height=400\n",
    "img_width=round(original_width * img_height / original_height)"
   ]
  },
  {
   "cell_type": "code",
   "execution_count": 3,
   "metadata": {},
   "outputs": [],
   "source": [
    "def preprocess_image(image_path):\n",
    "    img=keras.utils.load_img(\n",
    "        image_path,target_size=(img_height,img_width))\n",
    "    img=keras.utils.img_to_array(img)\n",
    "    img=np.expand_dims(img,axis=0)\n",
    "    img=keras.applications.vgg19.preprocess_input(img)\n",
    "    return img\n",
    "\n",
    "def deprocess_image(img):\n",
    "    img=img.reshape((img_height,img_width,3))\n",
    "    img[:,:,0] +103.939\n",
    "    img[:,:,1] +116.779\n",
    "    img[:,:,2] +123.68\n",
    "    img=np.clip(img,0,255).astype(\"uint8\")\n",
    "    return img"
   ]
  },
  {
   "cell_type": "code",
   "execution_count": 4,
   "metadata": {},
   "outputs": [],
   "source": [
    "model=keras.applications.vgg19.VGG19(weights=\"imagenet\",include_top=False)\n",
    "\n",
    "outputs_dict=dict([(layer.name,layer.output) for layer in model.layers])\n",
    "feature_extactor=keras.Model(inputs=model.input,outputs=outputs_dict)"
   ]
  },
  {
   "cell_type": "code",
   "execution_count": 5,
   "metadata": {},
   "outputs": [],
   "source": [
    "def content_loss(base_img,combination_img):\n",
    "    return tf.reduce_sum(tf.square(combination_img - base_img))"
   ]
  },
  {
   "cell_type": "code",
   "execution_count": 6,
   "metadata": {},
   "outputs": [],
   "source": [
    "def gram_matrix(x):\n",
    "    x=tf.transpose(x,(2,0,1))\n",
    "    features=tf.reshape(x,(tf.shape(x)[0],-1))\n",
    "    gram=tf.matmul(features,tf.transpose(features))\n",
    "    return gram\n",
    "\n",
    "def style_loss(style_img,combination_img):\n",
    "    S=gram_matrix(style_img)\n",
    "    C=gram_matrix(combination_img)\n",
    "    channels=3\n",
    "    size=img_height * img_width\n",
    "    return tf.reduce_sum(tf.square(S-C)) / (4.0 * (channels ** 2) * (size ** 2))"
   ]
  },
  {
   "cell_type": "code",
   "execution_count": 7,
   "metadata": {},
   "outputs": [],
   "source": [
    "def total_variation_loss(x):\n",
    "    a=tf.square(\n",
    "        x[:,:img_height -1, : img_width -1, :] - x[:, 1:, : img_width - 1, :]\n",
    "    )\n",
    "    b=tf.square(\n",
    "        x[:,:img_height -1, : img_width -1, :] - x[:, : img_height -1, 1:, :]\n",
    "    )\n",
    "    return tf.reduce_sum(tf.pow(a + b, 1.25))"
   ]
  },
  {
   "cell_type": "code",
   "execution_count": 8,
   "metadata": {},
   "outputs": [],
   "source": [
    "style_layer_names=[\n",
    "    \"block1_conv1\",\n",
    "    \"block2_conv1\",\n",
    "    \"block3_conv1\",\n",
    "    \"block4_conv1\",\n",
    "    \"block5_conv1\",\n",
    "]\n",
    "content_layer_name=\"block5_conv2\"\n",
    "total_variation_weight=1e-6\n",
    "style_weight=1e-6\n",
    "content_weight=2.5e-8\n",
    "\n",
    "def compute_loss(combination_image,base_image,style_reference_image):\n",
    "    input_tensor=tf.concat(\n",
    "        [base_image,style_reference_image,combination_image],axis=0\n",
    "    )\n",
    "    features=feature_extactor(input_tensor)\n",
    "    loss=tf.zeros(shape=())\n",
    "    layer_features=features[content_layer_name]\n",
    "    base_image_features=layer_features[0, :, :, :]\n",
    "    combination_features=layer_features[2, :, :, :]\n",
    "    loss=loss+content_weight * content_loss(\n",
    "        base_image_features,combination_features\n",
    "    )\n",
    "    for layer_name in style_layer_names:\n",
    "        layer_features=features[layer_name]\n",
    "        style_reference_features=layer_features[1, :, :, :]\n",
    "        combinaion_features=layer_features[2, :, :, :]\n",
    "        style_loss_value=style_loss(style_reference_features,combinaion_features)\n",
    "        loss += (style_weight / len(style_layer_names)) * style_loss_value\n",
    "\n",
    "    loss += total_variation_weight * total_variation_loss(combination_image)\n",
    "    return loss"
   ]
  },
  {
   "cell_type": "code",
   "execution_count": 9,
   "metadata": {},
   "outputs": [
    {
     "name": "stdout",
     "output_type": "stream",
     "text": [
      "Iteration 100: loss=8136.64\n",
      "Iteration 200: loss=6652.29\n",
      "Iteration 300: loss=6062.85\n",
      "Iteration 400: loss=5742.34\n",
      "Iteration 500: loss=5536.00\n",
      "Iteration 600: loss=5390.36\n",
      "Iteration 700: loss=5281.30\n",
      "Iteration 800: loss=5195.85\n",
      "Iteration 900: loss=5126.86\n",
      "Iteration 1000: loss=5070.08\n",
      "Iteration 1100: loss=5022.24\n",
      "Iteration 1200: loss=4981.45\n",
      "Iteration 1300: loss=4946.01\n",
      "Iteration 1400: loss=4915.01\n",
      "Iteration 1500: loss=4887.72\n",
      "Iteration 1600: loss=4863.56\n",
      "Iteration 1700: loss=4842.00\n",
      "Iteration 1800: loss=4822.64\n",
      "Iteration 1900: loss=4805.08\n",
      "Iteration 2000: loss=4789.17\n",
      "Iteration 2100: loss=4774.64\n",
      "Iteration 2200: loss=4761.38\n",
      "Iteration 2300: loss=4749.24\n",
      "Iteration 2400: loss=4738.09\n",
      "Iteration 2500: loss=4727.80\n",
      "Iteration 2600: loss=4718.29\n",
      "Iteration 2700: loss=4709.49\n",
      "Iteration 2800: loss=4701.32\n",
      "Iteration 2900: loss=4693.74\n",
      "Iteration 3000: loss=4686.67\n",
      "Iteration 3100: loss=4680.07\n",
      "Iteration 3200: loss=4673.90\n",
      "Iteration 3300: loss=4668.11\n",
      "Iteration 3400: loss=4662.68\n",
      "Iteration 3500: loss=4657.57\n",
      "Iteration 3600: loss=4652.77\n",
      "Iteration 3700: loss=4648.27\n",
      "Iteration 3800: loss=4644.05\n",
      "Iteration 3900: loss=4640.06\n",
      "Iteration 4000: loss=4636.29\n"
     ]
    }
   ],
   "source": [
    "@tf.function\n",
    "def compute_loss_and_grads(combination_image, base_image, style_reference_image):\n",
    "    with tf.GradientTape() as tape:\n",
    "        loss = compute_loss(combination_image, base_image, style_reference_image)\n",
    "    grads = tape.gradient(loss, combination_image)\n",
    "    return loss, grads\n",
    "\n",
    "optimizer = keras.optimizers.SGD(\n",
    "    keras.optimizers.schedules.ExponentialDecay(\n",
    "        initial_learning_rate=100.0, decay_steps=100, decay_rate=0.96\n",
    "    )\n",
    ")\n",
    "\n",
    "base_image = preprocess_image(base_image_path)\n",
    "style_reference_image = preprocess_image(style_reference_image_path)\n",
    "combination_image = tf.Variable(preprocess_image(base_image_path))\n",
    "\n",
    "iterations = 4000\n",
    "for i in range(1, iterations + 1):\n",
    "    loss, grads = compute_loss_and_grads(\n",
    "        combination_image, base_image, style_reference_image\n",
    "    )\n",
    "    optimizer.apply_gradients([(grads, combination_image)])\n",
    "    if i % 100 == 0:\n",
    "        print(f\"Iteration {i}: loss={loss:.2f}\")\n",
    "        img = deprocess_image(combination_image.numpy())\n",
    "        fname = f\"combination_image_at_iteration_{i}.png\"\n",
    "        keras.utils.save_img(fname, img)"
   ]
  }
 ],
 "metadata": {
  "kernelspec": {
   "display_name": "base",
   "language": "python",
   "name": "python3"
  },
  "language_info": {
   "codemirror_mode": {
    "name": "ipython",
    "version": 3
   },
   "file_extension": ".py",
   "mimetype": "text/x-python",
   "name": "python",
   "nbconvert_exporter": "python",
   "pygments_lexer": "ipython3",
   "version": "3.10.9"
  }
 },
 "nbformat": 4,
 "nbformat_minor": 2
}
